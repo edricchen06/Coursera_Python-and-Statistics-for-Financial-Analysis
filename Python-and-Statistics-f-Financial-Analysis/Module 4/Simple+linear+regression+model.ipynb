{
 "cells": [
  {
   "cell_type": "markdown",
   "metadata": {},
   "source": [
    "# Simple linear regression model"
   ]
  },
  {
   "cell_type": "code",
   "execution_count": null,
   "metadata": {
    "collapsed": true
   },
   "outputs": [],
   "source": [
    "import pandas as pd\n",
    "import statsmodels.formula.api as smf\n",
    "import matplotlib.pyplot as plt\n",
    "% matplotlib inline "
   ]
  },
  {
   "cell_type": "code",
   "execution_count": null,
   "metadata": {},
   "outputs": [],
   "source": [
    "housing = pd.DataFrame.from_csv('../data/housing.csv')\n",
    "housing.head()\n"
   ]
  },
  {
   "cell_type": "markdown",
   "metadata": {},
   "source": [
    "# Simple linear regression"
   ]
  },
  {
   "cell_type": "markdown",
   "metadata": {},
   "source": [
    "$y_i = \\beta_0 + \\beta_1 * x_i + \\epsilon_i $"
   ]
  },
  {
   "cell_type": "markdown",
   "metadata": {},
   "source": [
    "### We shall base on the association between LSTAT and MEDV and create a simple linear regression model. Let's use python in estimating the values of B0 and B1 (intercept and slope)"
   ]
  },
  {
   "cell_type": "code",
   "execution_count": null,
   "metadata": {},
   "outputs": [],
   "source": [
    "# lets try to guess what are the real values of intercept and slope\n",
    "# we call our guess b0, b1...\n",
    "# Try to assign the value of b0, b1 to get a straight line that can describe our data \n",
    "b0 = 0.1\n",
    "b1 = 1\n",
    "housing['GuessResponse'] = b0 + b1*housing['RM']\n",
    "\n",
    "# Also want to know the error of of guess...\n",
    "# This show how far is our guess response from the true response\n",
    "housing['observederror'] = housing['MEDV'] - housing['GuessResponse']\n",
    "\n",
    "\n",
    "# plot your estimated line together with the points\n",
    "plt.figure(figsize=(10, 10))\n",
    "plt.title('Sum of sqaured error is {}'.format((((housing['observederror'])**2)).sum()))\n",
    "plt.scatter(housing['RM'], housing['MEDV'], color='g', label='Observed')\n",
    "plt.plot(housing['RM'], housing['GuessResponse'], color='red', label='GuessResponse')\n",
    "plt.legend()\n",
    "plt.xlim(housing['RM'].min()-2, housing['RM'].max()+2)\n",
    "plt.ylim(housing['MEDV'].min()-2, housing['MEDV'].max()+2)\n",
    "plt.show()"
   ]
  },
  {
   "cell_type": "markdown",
   "metadata": {},
   "source": [
    "# Least sqaure estimates"
   ]
  },
  {
   "cell_type": "code",
   "execution_count": null,
   "metadata": {},
   "outputs": [],
   "source": [
    "# Input the formula (refer to the lecture video 4.3)\n",
    "formula = None\n",
    "model = smf.ols(formula=formula, data=housing).fit()\n",
    "\n",
    "# Here are estimated intercept and slope by least square estimation\n",
    "# Attribute 'params' returns a list of estimated parameters form model\n",
    "b0_ols = model.params[0]\n",
    "b1_ols = model.params[1]\n",
    "\n",
    "housing['BestResponse'] = b0_ols + b1_ols*housing['RM']\n",
    "\n",
    "# Also want to know the error of of guess...\n",
    "housing['error'] = housing['MEDV'] - housing['BestResponse']\n",
    "\n",
    "\n",
    "# plot your estimated line together with the points\n",
    "plt.figure(figsize=(10, 10))\n",
    "# See if the error drops after you use least square method\n",
    "plt.title('Sum of sqaured error is {}'.format((((housing['error'])**2)).sum()))\n",
    "plt.scatter(housing['RM'], housing['MEDV'], color='g', label='Observed')\n",
    "plt.plot(housing['RM'], housing['GuessResponse'], color='red', label='GuessResponse')\n",
    "plt.plot(housing['RM'], housing['BestResponse'], color='yellow', label='BestResponse')\n",
    "plt.legend()\n",
    "plt.xlim(housing['RM'].min()-2, housing['RM'].max()+2)\n",
    "plt.ylim(housing['MEDV'].min()-2, housing['MEDV'].max()+2)\n",
    "plt.show()"
   ]
  },
  {
   "cell_type": "markdown",
   "metadata": {},
   "source": [
    "# Summary table"
   ]
  },
  {
   "cell_type": "code",
   "execution_count": null,
   "metadata": {},
   "outputs": [],
   "source": [
    "#Refer to the P-value of RM, Confidence Interval and R-square to evaluate the performance.\n",
    "model.summary()"
   ]
  },
  {
   "cell_type": "code",
   "execution_count": null,
   "metadata": {
    "collapsed": true
   },
   "outputs": [],
   "source": []
  }
 ],
 "metadata": {
  "kernelspec": {
   "display_name": "Python 3",
   "language": "python",
   "name": "python3"
  },
  "language_info": {
   "codemirror_mode": {
    "name": "ipython",
    "version": 3
   },
   "file_extension": ".py",
   "mimetype": "text/x-python",
   "name": "python",
   "nbconvert_exporter": "python",
   "pygments_lexer": "ipython3",
   "version": "3.6.2"
  }
 },
 "nbformat": 4,
 "nbformat_minor": 2
}
